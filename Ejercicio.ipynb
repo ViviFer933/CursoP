{
 "cells": [
  {
   "cell_type": "markdown",
   "metadata": {},
   "source": [
    "### Ejercicio 1: Manipulación de listas\n",
    "\n",
    "Dada la siguiente lista de números:\n",
    "\n",
    "```python\n",
    "numeros = [5, 10, 15, 20, 25, 30]\n",
    "```\n",
    "\n",
    "1. Cambia el segundo elemento de la lista a `12`.\n",
    "2. Agrega el número `35` al final de la lista.\n",
    "3. Elimina el primer elemento de la lista.\n",
    "4. Imprime el número total de elementos en la lista.\n",
    "5. Utiliza un bucle `for` para imprimir cada número multiplicado por 2."
   ]
  },
  {
   "cell_type": "code",
   "execution_count": 2,
   "metadata": {},
   "outputs": [
    {
     "name": "stdout",
     "output_type": "stream",
     "text": [
      "[5, 10, 15, 20, 25, 30]\n"
     ]
    }
   ],
   "source": [
    "numeros = [5, 10, 15, 20, 25, 30]\n",
    "print(numeros)"
   ]
  },
  {
   "cell_type": "code",
   "execution_count": 3,
   "metadata": {},
   "outputs": [
    {
     "name": "stdout",
     "output_type": "stream",
     "text": [
      "[5, 12, 15, 20, 25, 30]\n"
     ]
    }
   ],
   "source": [
    "numeros[1]=12\n",
    "print(numeros)"
   ]
  },
  {
   "cell_type": "code",
   "execution_count": 6,
   "metadata": {},
   "outputs": [
    {
     "name": "stdout",
     "output_type": "stream",
     "text": [
      "[12, 15, 20, 25, 30, 35]\n"
     ]
    }
   ],
   "source": [
    "numeros.append(35)\n",
    "print(numeros)"
   ]
  },
  {
   "cell_type": "code",
   "execution_count": 4,
   "metadata": {},
   "outputs": [
    {
     "name": "stdout",
     "output_type": "stream",
     "text": [
      "[12, 15, 20, 25, 30]\n"
     ]
    }
   ],
   "source": [
    "numeros.pop(0)\n",
    "print(numeros)"
   ]
  },
  {
   "cell_type": "code",
   "execution_count": 7,
   "metadata": {},
   "outputs": [
    {
     "name": "stdout",
     "output_type": "stream",
     "text": [
      "6\n"
     ]
    }
   ],
   "source": [
    "print(len(numeros))"
   ]
  },
  {
   "cell_type": "code",
   "execution_count": 8,
   "metadata": {},
   "outputs": [
    {
     "name": "stdout",
     "output_type": "stream",
     "text": [
      "24\n",
      "30\n",
      "40\n",
      "50\n",
      "60\n",
      "70\n"
     ]
    }
   ],
   "source": [
    "for variable in numeros:\n",
    "  resultado = variable * 2\n",
    "  print(resultado)"
   ]
  },
  {
   "cell_type": "markdown",
   "metadata": {},
   "source": [
    "### Ejercicio 2: Diccionarios y condicionales\n",
    "\n",
    "Dado el siguiente diccionario que representa a una persona:\n",
    "\n",
    "```python\n",
    "persona = {'nombre': 'Ana', 'edad': 28, 'ciudad': 'Buenos Aires'}\n",
    "```\n",
    "\n",
    "1. Imprime el valor de la clave `nombre`.\n",
    "2. Agrega una nueva clave llamada `profesión` con el valor `'Ingeniera'`.\n",
    "3. Modifica la edad a `29`.\n",
    "4. Escribe una estructura condicional (`if`) que imprima \"Mayor de edad\" si la persona tiene 18 años o más, y \"Menor de edad\" en caso contrario."
   ]
  },
  {
   "cell_type": "code",
   "execution_count": 15,
   "metadata": {},
   "outputs": [
    {
     "name": "stdout",
     "output_type": "stream",
     "text": [
      "{'nombre': 'Ana', 'edad': 28, 'ciudad': 'Buenos Aires'}\n"
     ]
    }
   ],
   "source": [
    "persona = {'nombre': 'Ana', 'edad': 28, 'ciudad': 'Buenos Aires'}\n",
    "print(persona)"
   ]
  },
  {
   "cell_type": "code",
   "execution_count": 17,
   "metadata": {},
   "outputs": [
    {
     "name": "stdout",
     "output_type": "stream",
     "text": [
      "{'nombre': 'Ana', 'edad': 28, 'ciudad': 'Buenos Aires', 'profesion': 'Ingenieria'}\n"
     ]
    }
   ],
   "source": [
    "persona['profesion'] = 'Ingenieria'\n",
    "print(persona)"
   ]
  },
  {
   "cell_type": "code",
   "execution_count": 23,
   "metadata": {},
   "outputs": [
    {
     "name": "stdout",
     "output_type": "stream",
     "text": [
      "{'nombre': 'Ana', 'edad': 29, 'ciudad': 'Buenos Aires', 'profesion': 'Ingenieria'}\n"
     ]
    }
   ],
   "source": [
    "persona['edad'] = 29\n",
    "print(persona)"
   ]
  },
  {
   "cell_type": "code",
   "execution_count": 25,
   "metadata": {},
   "outputs": [
    {
     "name": "stdout",
     "output_type": "stream",
     "text": [
      "mayor de edad\n"
     ]
    }
   ],
   "source": [
    "if persona['edad'] >= 18:\n",
    "  print('mayor de edad')\n",
    "else:\n",
    "  print('menor de 18')\n"
   ]
  },
  {
   "cell_type": "markdown",
   "metadata": {},
   "source": [
    "### Ejercicio 3: Conjuntos y bucles `while`\n",
    "\n",
    "Dado el conjunto:\n",
    "\n",
    "```python\n",
    "numeros_set = {1, 2, 3, 4, 5}\n",
    "```\n",
    "\n",
    "1. Agrega los números `6` y `7` al conjunto.\n",
    "2. Escribe un bucle `while` que elimine un número del conjunto en cada iteración hasta que el conjunto esté vacío. Imprime el conjunto después de cada eliminación."
   ]
  },
  {
   "cell_type": "code",
   "execution_count": 38,
   "metadata": {},
   "outputs": [
    {
     "name": "stdout",
     "output_type": "stream",
     "text": [
      "{1, 2, 3, 4, 5}\n"
     ]
    }
   ],
   "source": [
    "##numeros_set.update([6 , 7]) \n",
    "numeros_set = {1, 2, 3, 4, 5}\n",
    "print(numeros_set)"
   ]
  },
  {
   "cell_type": "code",
   "execution_count": 39,
   "metadata": {},
   "outputs": [
    {
     "name": "stdout",
     "output_type": "stream",
     "text": [
      "{1, 2, 3, 4, 5, 6, 7}\n"
     ]
    }
   ],
   "source": [
    "numeros_set.add(6)\n",
    "numeros_set.add(7)\n",
    "print(numeros_set)"
   ]
  },
  {
   "cell_type": "code",
   "execution_count": 41,
   "metadata": {},
   "outputs": [
    {
     "name": "stdout",
     "output_type": "stream",
     "text": [
      "{2, 3, 4, 5, 6, 7}\n",
      "{3, 4, 5, 6, 7}\n",
      "{4, 5, 6, 7}\n",
      "{5, 6, 7}\n",
      "{6, 7}\n",
      "{7}\n",
      "set()\n"
     ]
    }
   ],
   "source": [
    "while len(numeros_set)>0:\n",
    "  numeros_set.pop( )\n",
    "  print(numeros_set)"
   ]
  },
  {
   "cell_type": "markdown",
   "metadata": {},
   "source": [
    "### Ejercicio 4: Tuplas y ciclos `for`\n",
    "\n",
    "Dada la siguiente tupla:\n",
    "\n",
    "```python\n",
    "colores = ('rojo', 'verde', 'azul', 'amarillo')\n",
    "```\n",
    "\n",
    "1. Escribe un ciclo `for` que imprima cada color en la tupla.\n",
    "2. Crea una nueva tupla que contenga los mismos colores pero en orden inverso. Imprime la nueva tupla."
   ]
  },
  {
   "cell_type": "code",
   "execution_count": 3,
   "metadata": {},
   "outputs": [
    {
     "name": "stdout",
     "output_type": "stream",
     "text": [
      "('rojo', 'verde', 'azul', 'amarillo')\n"
     ]
    }
   ],
   "source": [
    "colores=('rojo', 'verde', 'azul', 'amarillo')\n",
    "print(colores)"
   ]
  },
  {
   "cell_type": "code",
   "execution_count": 4,
   "metadata": {},
   "outputs": [
    {
     "name": "stdout",
     "output_type": "stream",
     "text": [
      "rojo\n",
      "verde\n",
      "azul\n",
      "amarillo\n"
     ]
    }
   ],
   "source": [
    "for color in colores:\n",
    "  print(color)"
   ]
  },
  {
   "cell_type": "code",
   "execution_count": 8,
   "metadata": {},
   "outputs": [
    {
     "name": "stdout",
     "output_type": "stream",
     "text": [
      "('amarillo', 'azul', 'verde', 'rojo')\n"
     ]
    }
   ],
   "source": [
    "c_invertidos = colores[::-1]\n",
    "print(c_invertidos)\n"
   ]
  },
  {
   "cell_type": "markdown",
   "metadata": {},
   "source": [
    "### Ejercicio 5: Números y control de flujo\n",
    "\n",
    "Escribe un programa que realice lo siguiente:\n",
    "\n",
    "1. Solicite al usuario ingresar un número entero.\n",
    "2. Si el número es positivo, imprima \"El número es positivo\".\n",
    "3. Si el número es negativo, imprima \"El número es negativo\".\n",
    "4. Si el número es cero, imprima \"El número es cero\".\n",
    "5. Utiliza un bucle `for` para imprimir todos los números del 1 hasta el número ingresado (solo si es positivo)."
   ]
  },
  {
   "cell_type": "code",
   "execution_count": 9,
   "metadata": {},
   "outputs": [
    {
     "name": "stdout",
     "output_type": "stream",
     "text": [
      "5\n"
     ]
    }
   ],
   "source": [
    "numero=5\n",
    "print(numero)"
   ]
  },
  {
   "cell_type": "code",
   "execution_count": 10,
   "metadata": {},
   "outputs": [
    {
     "name": "stdout",
     "output_type": "stream",
     "text": [
      "EL numero es positivo\n"
     ]
    }
   ],
   "source": [
    "if numero>0:\n",
    "  print('El numero es positivo')"
   ]
  },
  {
   "cell_type": "code",
   "execution_count": 11,
   "metadata": {},
   "outputs": [
    {
     "name": "stdout",
     "output_type": "stream",
     "text": [
      "El numero es negativo\n"
     ]
    }
   ],
   "source": [
    "numero_neg= -2\n",
    "\n",
    "if numero_neg>0:\n",
    "  print('EL numero es positivo')\n",
    "elif numero_neg<0:\n",
    "  print('El numero es negativo')"
   ]
  },
  {
   "cell_type": "code",
   "execution_count": 13,
   "metadata": {},
   "outputs": [
    {
     "name": "stdout",
     "output_type": "stream",
     "text": [
      "El numero es cero\n"
     ]
    }
   ],
   "source": [
    "cero= 0\n",
    "\n",
    "if cero>0:\n",
    "  print('EL numero es positivo')\n",
    "elif cero<0:\n",
    "  print('El numero es negativo')\n",
    "else:\n",
    "  print('El numero es cero')"
   ]
  },
  {
   "cell_type": "code",
   "execution_count": 10,
   "metadata": {},
   "outputs": [
    {
     "name": "stdout",
     "output_type": "stream",
     "text": [
      "1\n",
      "2\n",
      "3\n"
     ]
    }
   ],
   "source": [
    "numero = 3\n",
    "\n",
    "if numero > 0:\n",
    "  for i in range(1, numero+1):\n",
    "     print(i)\n",
    "else:\n",
    "    print(\"El número no es positivo. No se puede imprimir la secuencia.\")\n"
   ]
  },
  {
   "cell_type": "markdown",
   "metadata": {},
   "source": [
    "### Ejercicio 6 (Investigación): Control de flujos con inputs\n",
    "\n",
    "Investiga el concepto de **inputs** en Python. Escribe un programa que:\n",
    "\n",
    "1. Solicite al usuario que ingrese dos números.\n",
    "2. Intente dividir el primer número entre el segundo.\n",
    "3. Si el usuario intenta dividir entre cero, captura la excepción y muestra un mensaje adecuado como \"Error: no se puede dividir entre cero\"."
   ]
  },
  {
   "cell_type": "code",
   "execution_count": 9,
   "metadata": {},
   "outputs": [
    {
     "name": "stdout",
     "output_type": "stream",
     "text": [
      "Ingresa 2 numeros: 24 y 12.\n"
     ]
    }
   ],
   "source": [
    "numeros1 = int(input(\"Ingresa 1 numero: \"))\n",
    "numeros2 = int(input(\"Ingresa 1 numero: \"))\n",
    "print(f\"Ingresa 2 numeros: {numeros1} y {numeros2}.\" )"
   ]
  },
  {
   "cell_type": "code",
   "execution_count": 19,
   "metadata": {},
   "outputs": [
    {
     "name": "stdout",
     "output_type": "stream",
     "text": [
      "Resultado de la división: 2\n"
     ]
    }
   ],
   "source": [
    "numeros1 = int(input(\"Ingresa 1 numero: \"))\n",
    "numeros2 = int(input(\"Ingresa 1 numero: \"))\n",
    "dividir = int(numeros1 / numeros2)\n",
    "print(f\"Resultado de la división: {dividir}\")"
   ]
  },
  {
   "cell_type": "code",
   "execution_count": 18,
   "metadata": {},
   "outputs": [
    {
     "name": "stdout",
     "output_type": "stream",
     "text": [
      "Resultado de la división: 0\n"
     ]
    }
   ],
   "source": [
    "numeros1 = int(input(\"Ingresa 1 numero: \"))\n",
    "numeros2 = int(input(\"Ingresa 1 numero: \"))\n",
    "if numeros2 == 0:\n",
    "    print(\"No se puede dividir entre cero.\")\n",
    "else:\n",
    "    dividir = int(numeros1 / numeros2)  \n",
    "    print(f\"Resultado de la división: {dividir}\")"
   ]
  }
 ],
 "metadata": {
  "kernelspec": {
   "display_name": "entorno_virtual",
   "language": "python",
   "name": "python3"
  },
  "language_info": {
   "codemirror_mode": {
    "name": "ipython",
    "version": 3
   },
   "file_extension": ".py",
   "mimetype": "text/x-python",
   "name": "python",
   "nbconvert_exporter": "python",
   "pygments_lexer": "ipython3",
   "version": "3.12.6"
  }
 },
 "nbformat": 4,
 "nbformat_minor": 2
}
